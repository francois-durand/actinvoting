{
 "cells": [
  {
   "cell_type": "code",
   "execution_count": 41,
   "id": "a8c66522-09e5-43c0-bd69-ee62874b5b27",
   "metadata": {},
   "outputs": [],
   "source": [
    "from actinvoting import *"
   ]
  },
  {
   "cell_type": "code",
   "execution_count": 44,
   "id": "e55cbea2-7000-45fc-9add-a78a41071e5d",
   "metadata": {},
   "outputs": [],
   "source": [
    "profile = Profile.from_d_ranking_multiplicity({\n",
    "    (0, 2, 1): 3,\n",
    "    (1, 2, 0): 1,\n",
    "    (2, 0, 1): 1\n",
    "})"
   ]
  },
  {
   "cell_type": "code",
   "execution_count": 45,
   "id": "af10efe1-3f55-4fc2-833f-58df52e1106c",
   "metadata": {},
   "outputs": [
    {
     "data": {
      "text/plain": [
       "array([[0, 4, 3],\n",
       "       [1, 0, 1],\n",
       "       [2, 4, 0]])"
      ]
     },
     "execution_count": 45,
     "metadata": {},
     "output_type": "execute_result"
    }
   ],
   "source": [
    "profile.weighted_majority_matrix"
   ]
  },
  {
   "cell_type": "code",
   "execution_count": 46,
   "id": "4e33018e-c05b-4df5-a4e5-d82fe6112e3b",
   "metadata": {},
   "outputs": [],
   "source": [
    "culture = CultureFromProfile(profile)"
   ]
  },
  {
   "cell_type": "code",
   "execution_count": 55,
   "id": "2922231f-c46f-4cef-97e5-4dd87736b2c6",
   "metadata": {},
   "outputs": [
    {
     "data": {
      "text/plain": [
       "array([2202.111589  , 7425.56882043])"
      ]
     },
     "execution_count": 55,
     "metadata": {},
     "output_type": "execute_result"
    }
   ],
   "source": [
    "zeta = culture.zeta(c=2)\n",
    "zeta"
   ]
  },
  {
   "cell_type": "code",
   "execution_count": 48,
   "id": "bb9de03a-798c-4351-b3e7-555a9feb5424",
   "metadata": {},
   "outputs": [
    {
     "data": {
      "text/latex": [
       "$\\displaystyle 0.6 x_{0} + 0.2 x_{1} + 0.2$"
      ],
      "text/plain": [
       "0.6*x_0 + 0.2*x_1 + 0.2"
      ]
     },
     "execution_count": 48,
     "metadata": {},
     "output_type": "execute_result"
    }
   ],
   "source": [
    "p = culture.polynom_of_duels(c=2)\n",
    "p"
   ]
  },
  {
   "cell_type": "code",
   "execution_count": 49,
   "id": "7fd27b00-9e21-42b0-bc8d-9284728f7b16",
   "metadata": {},
   "outputs": [
    {
     "data": {
      "text/plain": [
       "1101.0557944984168"
      ]
     },
     "execution_count": 49,
     "metadata": {},
     "output_type": "execute_result"
    }
   ],
   "source": [
    "0.5 * zeta[0]"
   ]
  },
  {
   "cell_type": "code",
   "execution_count": 50,
   "id": "5342c238-a282-4336-b62a-7f6728eab498",
   "metadata": {},
   "outputs": [
    {
     "data": {
      "text/plain": [
       "1856.3922051070208"
      ]
     },
     "execution_count": 50,
     "metadata": {},
     "output_type": "execute_result"
    }
   ],
   "source": [
    "0.25 * zeta[1]"
   ]
  },
  {
   "cell_type": "code",
   "execution_count": 51,
   "id": "5afc153e-c13a-4123-8659-29418a7a449b",
   "metadata": {},
   "outputs": [
    {
     "data": {
      "text/latex": [
       "$\\displaystyle \\frac{0.6 x_{0} + 0.2 x_{1} + 0.2}{\\sqrt{x_{0}} \\sqrt{x_{1}}}$"
      ],
      "text/plain": [
       "(0.6*x_0 + 0.2*x_1 + 0.2)/(sqrt(x_0)*sqrt(x_1))"
      ]
     },
     "execution_count": 51,
     "metadata": {},
     "output_type": "execute_result"
    }
   ],
   "source": [
    "r = culture.rational_fraction_condorcet(c=2)\n",
    "r"
   ]
  },
  {
   "cell_type": "code",
   "execution_count": 52,
   "id": "d3e6f327-2821-4df7-a107-3b4ffb2a3a93",
   "metadata": {},
   "outputs": [],
   "source": [
    "x = sympy.symarray(\"x\", 2)"
   ]
  },
  {
   "cell_type": "code",
   "execution_count": 58,
   "id": "6a0e7928-b427-4acf-bb93-4fe740c1416a",
   "metadata": {},
   "outputs": [
    {
     "data": {
      "text/latex": [
       "$\\displaystyle \\frac{0.5 \\cdot \\left(0.6 x_{0} - 0.2 x_{1} - 0.2\\right)}{x_{0}^{\\frac{3}{2}} \\sqrt{x_{1}}}$"
      ],
      "text/plain": [
       "0.5*(0.6*x_0 - 0.2*x_1 - 0.2)/(x_0**(3/2)*sqrt(x_1))"
      ]
     },
     "execution_count": 58,
     "metadata": {},
     "output_type": "execute_result"
    }
   ],
   "source": [
    "sympy.simplify(sympy.diff(r, x[0]))"
   ]
  },
  {
   "cell_type": "code",
   "execution_count": 59,
   "id": "dbd2641e-ea4b-4df3-96c6-4345f95f530f",
   "metadata": {},
   "outputs": [
    {
     "data": {
      "text/latex": [
       "$\\displaystyle \\frac{0.5 \\left(- 0.6 x_{0} + 0.2 x_{1} - 0.2\\right)}{\\sqrt{x_{0}} x_{1}^{\\frac{3}{2}}}$"
      ],
      "text/plain": [
       "0.5*(-0.6*x_0 + 0.2*x_1 - 0.2)/(sqrt(x_0)*x_1**(3/2))"
      ]
     },
     "execution_count": 59,
     "metadata": {},
     "output_type": "execute_result"
    }
   ],
   "source": [
    "sympy.simplify(sympy.diff(r, x[1]))"
   ]
  },
  {
   "cell_type": "code",
   "execution_count": null,
   "id": "03518252-c45d-4f1e-9b6e-49f8b231b635",
   "metadata": {},
   "outputs": [],
   "source": []
  }
 ],
 "metadata": {
  "kernelspec": {
   "display_name": "Python 3 (ipykernel)",
   "language": "python",
   "name": "python3"
  },
  "language_info": {
   "codemirror_mode": {
    "name": "ipython",
    "version": 3
   },
   "file_extension": ".py",
   "mimetype": "text/x-python",
   "name": "python",
   "nbconvert_exporter": "python",
   "pygments_lexer": "ipython3",
   "version": "3.12.1"
  }
 },
 "nbformat": 4,
 "nbformat_minor": 5
}
