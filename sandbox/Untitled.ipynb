{
 "cells": [
  {
   "cell_type": "code",
   "execution_count": 1,
   "id": "a8c66522-09e5-43c0-bd69-ee62874b5b27",
   "metadata": {},
   "outputs": [],
   "source": [
    "import numpy as np\n",
    "from actinvoting import *"
   ]
  },
  {
   "cell_type": "code",
   "execution_count": 2,
   "id": "d943e26b-e43b-40d8-9852-202142e2ed02",
   "metadata": {},
   "outputs": [
    {
     "data": {
      "text/plain": [
       "Profile(d_ranking_multiplicity={(0, 1, 2): 3, (1, 0, 2): 2})"
      ]
     },
     "execution_count": 2,
     "metadata": {},
     "output_type": "execute_result"
    }
   ],
   "source": [
    "profile = Profile.from_d_ranking_multiplicity({(0, 1, 2): 3, (1, 0, 2): 2})\n",
    "profile"
   ]
  },
  {
   "cell_type": "code",
   "execution_count": 3,
   "id": "c4847678-5443-41aa-97e7-274e7a0eab42",
   "metadata": {},
   "outputs": [
    {
     "name": "stdout",
     "output_type": "stream",
     "text": [
      "Profile((0, 1, 2): 3,\n",
      "        (1, 0, 2): 2)\n"
     ]
    }
   ],
   "source": [
    "print(profile)"
   ]
  },
  {
   "cell_type": "code",
   "execution_count": 12,
   "id": "67a39b04-2d7a-40cb-984a-014807f41385",
   "metadata": {},
   "outputs": [
    {
     "data": {
      "text/plain": [
       "array([[0, 0, 0],\n",
       "       [0, 0, 0],\n",
       "       [0, 0, 0]])"
      ]
     },
     "execution_count": 12,
     "metadata": {},
     "output_type": "execute_result"
    }
   ],
   "source": [
    "mat = np.zeros((profile.m, profile.m), int)\n",
    "mat"
   ]
  },
  {
   "cell_type": "code",
   "execution_count": 13,
   "id": "87a05467-0e9a-4cd0-891c-99af120f4925",
   "metadata": {},
   "outputs": [
    {
     "data": {
      "text/plain": [
       "array([[0, 3, 5],\n",
       "       [2, 0, 5],\n",
       "       [0, 0, 0]])"
      ]
     },
     "execution_count": 13,
     "metadata": {},
     "output_type": "execute_result"
    }
   ],
   "source": [
    "for borda, multiplicity in profile.d_borda_multiplicity.items():\n",
    "    borda = np.array(borda)\n",
    "    mat += multiplicity * (borda[:, np.newaxis] > borda[np.newaxis, :])\n",
    "mat"
   ]
  },
  {
   "cell_type": "code",
   "execution_count": 14,
   "id": "dc20e512-36b2-4634-b28c-bab6f179778a",
   "metadata": {},
   "outputs": [],
   "source": [
    "is_truc = np.array([False, False, True, False])"
   ]
  },
  {
   "cell_type": "code",
   "execution_count": 18,
   "id": "a564d692-7d8e-4c01-b5d8-8852b0744eb3",
   "metadata": {},
   "outputs": [
    {
     "data": {
      "text/plain": [
       "array([], dtype=int64)"
      ]
     },
     "execution_count": 18,
     "metadata": {},
     "output_type": "execute_result"
    }
   ],
   "source": [
    "np.where(is_truc)[0]"
   ]
  },
  {
   "cell_type": "code",
   "execution_count": 16,
   "id": "f0cd9c45-48bb-41f4-a499-e83c2b834c5b",
   "metadata": {},
   "outputs": [],
   "source": [
    "is_truc = np.array([False, False, False, False])"
   ]
  },
  {
   "cell_type": "code",
   "execution_count": 17,
   "id": "4f65f8b9-6f26-44d4-a947-20eb23b144a3",
   "metadata": {},
   "outputs": [
    {
     "data": {
      "text/plain": [
       "(array([], dtype=int64),)"
      ]
     },
     "execution_count": 17,
     "metadata": {},
     "output_type": "execute_result"
    }
   ],
   "source": [
    "np.where(is_truc)"
   ]
  },
  {
   "cell_type": "code",
   "execution_count": null,
   "id": "8bb2f841-3f3e-4876-9206-f07bec1c2cdf",
   "metadata": {},
   "outputs": [],
   "source": []
  }
 ],
 "metadata": {
  "kernelspec": {
   "display_name": "Python 3 (ipykernel)",
   "language": "python",
   "name": "python3"
  },
  "language_info": {
   "codemirror_mode": {
    "name": "ipython",
    "version": 3
   },
   "file_extension": ".py",
   "mimetype": "text/x-python",
   "name": "python",
   "nbconvert_exporter": "python",
   "pygments_lexer": "ipython3",
   "version": "3.12.1"
  }
 },
 "nbformat": 4,
 "nbformat_minor": 5
}
