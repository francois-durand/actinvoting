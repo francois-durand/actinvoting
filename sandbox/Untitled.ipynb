{
 "cells": [
  {
   "cell_type": "code",
   "execution_count": 1,
   "id": "a8c66522-09e5-43c0-bd69-ee62874b5b27",
   "metadata": {},
   "outputs": [],
   "source": [
    "import sympy\n",
    "from actinvoting import *"
   ]
  },
  {
   "cell_type": "code",
   "execution_count": 2,
   "id": "3528965f-e5ad-4064-b0f1-fbae39b6e84b",
   "metadata": {},
   "outputs": [],
   "source": [
    "# culture = CultureMallows(m=5, phi=sympy.Rational(9, 10))\n",
    "culture = CultureImpartial(m=5)\n",
    "self = culture"
   ]
  },
  {
   "cell_type": "code",
   "execution_count": 3,
   "id": "14f82944-d97b-4412-8d1d-4e61f6a1812c",
   "metadata": {},
   "outputs": [
    {
     "data": {
      "text/latex": [
       "$\\displaystyle \\frac{x_{0} x_{1} x_{2} x_{4}}{5} + \\frac{x_{0} x_{1} x_{2}}{20} + \\frac{x_{0} x_{1} x_{4}}{20} + \\frac{x_{0} x_{1}}{30} + \\frac{x_{0} x_{2} x_{4}}{20} + \\frac{x_{0} x_{2}}{30} + \\frac{x_{0} x_{4}}{30} + \\frac{x_{0}}{20} + \\frac{x_{1} x_{2} x_{4}}{20} + \\frac{x_{1} x_{2}}{30} + \\frac{x_{1} x_{4}}{30} + \\frac{x_{1}}{20} + \\frac{x_{2} x_{4}}{30} + \\frac{x_{2}}{20} + \\frac{x_{4}}{20} + \\frac{1}{5}$"
      ],
      "text/plain": [
       "x_0*x_1*x_2*x_4/5 + x_0*x_1*x_2/20 + x_0*x_1*x_4/20 + x_0*x_1/30 + x_0*x_2*x_4/20 + x_0*x_2/30 + x_0*x_4/30 + x_0/20 + x_1*x_2*x_4/20 + x_1*x_2/30 + x_1*x_4/30 + x_1/20 + x_2*x_4/30 + x_2/20 + x_4/20 + 1/5"
      ]
     },
     "execution_count": 3,
     "metadata": {},
     "output_type": "execute_result"
    }
   ],
   "source": [
    "culture.polynom_of_duels(c=3)"
   ]
  },
  {
   "cell_type": "code",
   "execution_count": 4,
   "id": "2266180c-d2fd-4635-aac6-b02a8f33baf3",
   "metadata": {},
   "outputs": [
    {
     "data": {
      "text/latex": [
       "$\\displaystyle \\frac{\\frac{x_{0} x_{1} x_{2} x_{4}}{5} + \\frac{x_{0} x_{1} x_{2}}{20} + \\frac{x_{0} x_{1} x_{4}}{20} + \\frac{x_{0} x_{1}}{30} + \\frac{x_{0} x_{2} x_{4}}{20} + \\frac{x_{0} x_{2}}{30} + \\frac{x_{0} x_{4}}{30} + \\frac{x_{0}}{20} + \\frac{x_{1} x_{2} x_{4}}{20} + \\frac{x_{1} x_{2}}{30} + \\frac{x_{1} x_{4}}{30} + \\frac{x_{1}}{20} + \\frac{x_{2} x_{4}}{30} + \\frac{x_{2}}{20} + \\frac{x_{4}}{20} + \\frac{1}{5}}{\\sqrt{x_{0}} \\sqrt{x_{1}} \\sqrt{x_{2}} \\sqrt{x_{4}}}$"
      ],
      "text/plain": [
       "(x_0*x_1*x_2*x_4/5 + x_0*x_1*x_2/20 + x_0*x_1*x_4/20 + x_0*x_1/30 + x_0*x_2*x_4/20 + x_0*x_2/30 + x_0*x_4/30 + x_0/20 + x_1*x_2*x_4/20 + x_1*x_2/30 + x_1*x_4/30 + x_1/20 + x_2*x_4/30 + x_2/20 + x_4/20 + 1/5)/(sqrt(x_0)*sqrt(x_1)*sqrt(x_2)*sqrt(x_4))"
      ]
     },
     "execution_count": 4,
     "metadata": {},
     "output_type": "execute_result"
    }
   ],
   "source": [
    "culture.rational_fraction_condorcet(c=3)"
   ]
  },
  {
   "cell_type": "code",
   "execution_count": 5,
   "id": "939abbe7-264c-4296-8476-8579ba6e106c",
   "metadata": {},
   "outputs": [
    {
     "data": {
      "text/plain": [
       "array([1., 1., 1., 1.])"
      ]
     },
     "execution_count": 5,
     "metadata": {},
     "output_type": "execute_result"
    }
   ],
   "source": [
    "culture.zeta(c=3)"
   ]
  },
  {
   "cell_type": "code",
   "execution_count": 7,
   "id": "ba522d3f-e955-4c37-a0f2-34a2dadea10c",
   "metadata": {},
   "outputs": [
    {
     "data": {
      "text/latex": [
       "$\\displaystyle \\left[\\begin{matrix}\\frac{x_{1} x_{2} x_{4}}{5} + \\frac{x_{1} x_{2}}{20} + \\frac{x_{1} x_{4}}{20} + \\frac{x_{1}}{30} + \\frac{x_{2} x_{4}}{20} + \\frac{x_{2}}{30} + \\frac{x_{4}}{30} + \\frac{1}{20} & \\frac{x_{0} x_{2} x_{4}}{5} + \\frac{x_{0} x_{2}}{20} + \\frac{x_{0} x_{4}}{20} + \\frac{x_{0}}{30} + \\frac{x_{2} x_{4}}{20} + \\frac{x_{2}}{30} + \\frac{x_{4}}{30} + \\frac{1}{20} & \\frac{x_{0} x_{1} x_{4}}{5} + \\frac{x_{0} x_{1}}{20} + \\frac{x_{0} x_{4}}{20} + \\frac{x_{0}}{30} + \\frac{x_{1} x_{4}}{20} + \\frac{x_{1}}{30} + \\frac{x_{4}}{30} + \\frac{1}{20} & \\frac{x_{0} x_{1} x_{2}}{5} + \\frac{x_{0} x_{1}}{20} + \\frac{x_{0} x_{2}}{20} + \\frac{x_{0}}{30} + \\frac{x_{1} x_{2}}{20} + \\frac{x_{1}}{30} + \\frac{x_{2}}{30} + \\frac{1}{20}\\end{matrix}\\right]$"
      ],
      "text/plain": [
       "[x_1*x_2*x_4/5 + x_1*x_2/20 + x_1*x_4/20 + x_1/30 + x_2*x_4/20 + x_2/30 + x_4/30 + 1/20, x_0*x_2*x_4/5 + x_0*x_2/20 + x_0*x_4/20 + x_0/30 + x_2*x_4/20 + x_2/30 + x_4/30 + 1/20, x_0*x_1*x_4/5 + x_0*x_1/20 + x_0*x_4/20 + x_0/30 + x_1*x_4/20 + x_1/30 + x_4/30 + 1/20, x_0*x_1*x_2/5 + x_0*x_1/20 + x_0*x_2/20 + x_0/30 + x_1*x_2/20 + x_1/30 + x_2/30 + 1/20]"
      ]
     },
     "execution_count": 7,
     "metadata": {},
     "output_type": "execute_result"
    }
   ],
   "source": [
    "culture.jacobian_of_p(c=3)"
   ]
  },
  {
   "cell_type": "code",
   "execution_count": 6,
   "id": "8b53c3a6-1838-4db8-99f4-ed1be2c374ef",
   "metadata": {},
   "outputs": [
    {
     "data": {
      "text/latex": [
       "$\\displaystyle \\left[\\begin{matrix}0 & \\frac{x_{2} x_{4}}{5} + \\frac{x_{2}}{20} + \\frac{x_{4}}{20} + \\frac{1}{30} & \\frac{x_{1} x_{4}}{5} + \\frac{x_{1}}{20} + \\frac{x_{4}}{20} + \\frac{1}{30} & \\frac{x_{1} x_{2}}{5} + \\frac{x_{1}}{20} + \\frac{x_{2}}{20} + \\frac{1}{30}\\\\\\frac{x_{2} x_{4}}{5} + \\frac{x_{2}}{20} + \\frac{x_{4}}{20} + \\frac{1}{30} & 0 & \\frac{x_{0} x_{4}}{5} + \\frac{x_{0}}{20} + \\frac{x_{4}}{20} + \\frac{1}{30} & \\frac{x_{0} x_{2}}{5} + \\frac{x_{0}}{20} + \\frac{x_{2}}{20} + \\frac{1}{30}\\\\\\frac{x_{1} x_{4}}{5} + \\frac{x_{1}}{20} + \\frac{x_{4}}{20} + \\frac{1}{30} & \\frac{x_{0} x_{4}}{5} + \\frac{x_{0}}{20} + \\frac{x_{4}}{20} + \\frac{1}{30} & 0 & \\frac{x_{0} x_{1}}{5} + \\frac{x_{0}}{20} + \\frac{x_{1}}{20} + \\frac{1}{30}\\\\\\frac{x_{1} x_{2}}{5} + \\frac{x_{1}}{20} + \\frac{x_{2}}{20} + \\frac{1}{30} & \\frac{x_{0} x_{2}}{5} + \\frac{x_{0}}{20} + \\frac{x_{2}}{20} + \\frac{1}{30} & \\frac{x_{0} x_{1}}{5} + \\frac{x_{0}}{20} + \\frac{x_{1}}{20} + \\frac{1}{30} & 0\\end{matrix}\\right]$"
      ],
      "text/plain": [
       "Matrix([\n",
       "[                                 0, x_2*x_4/5 + x_2/20 + x_4/20 + 1/30, x_1*x_4/5 + x_1/20 + x_4/20 + 1/30, x_1*x_2/5 + x_1/20 + x_2/20 + 1/30],\n",
       "[x_2*x_4/5 + x_2/20 + x_4/20 + 1/30,                                  0, x_0*x_4/5 + x_0/20 + x_4/20 + 1/30, x_0*x_2/5 + x_0/20 + x_2/20 + 1/30],\n",
       "[x_1*x_4/5 + x_1/20 + x_4/20 + 1/30, x_0*x_4/5 + x_0/20 + x_4/20 + 1/30,                                  0, x_0*x_1/5 + x_0/20 + x_1/20 + 1/30],\n",
       "[x_1*x_2/5 + x_1/20 + x_2/20 + 1/30, x_0*x_2/5 + x_0/20 + x_2/20 + 1/30, x_0*x_1/5 + x_0/20 + x_1/20 + 1/30,                                  0]])"
      ]
     },
     "execution_count": 6,
     "metadata": {},
     "output_type": "execute_result"
    }
   ],
   "source": [
    "culture.hessian_of_p(c=3)"
   ]
  },
  {
   "cell_type": "code",
   "execution_count": null,
   "id": "486dc949-a872-4df8-a2e4-d10a5b3ae37a",
   "metadata": {},
   "outputs": [],
   "source": []
  }
 ],
 "metadata": {
  "kernelspec": {
   "display_name": "Python 3 (ipykernel)",
   "language": "python",
   "name": "python3"
  },
  "language_info": {
   "codemirror_mode": {
    "name": "ipython",
    "version": 3
   },
   "file_extension": ".py",
   "mimetype": "text/x-python",
   "name": "python",
   "nbconvert_exporter": "python",
   "pygments_lexer": "ipython3",
   "version": "3.12.1"
  }
 },
 "nbformat": 4,
 "nbformat_minor": 5
}
