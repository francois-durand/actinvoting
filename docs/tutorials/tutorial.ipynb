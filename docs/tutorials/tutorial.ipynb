{
 "cells": [
  {
   "cell_type": "markdown",
   "id": "b0afe118",
   "metadata": {},
   "source": [
    "# Actinvoting (Analytic Combinatorics Tools In Voting) Tutorial"
   ]
  },
  {
   "cell_type": "code",
   "execution_count": 1,
   "id": "fc921344-76d1-4ab4-bd8d-a8bf659f2d3c",
   "metadata": {},
   "outputs": [],
   "source": [
    "from actinvoting import *"
   ]
  },
  {
   "cell_type": "code",
   "execution_count": 2,
   "id": "89fb3009-8529-4276-9700-2ae42a419c76",
   "metadata": {},
   "outputs": [],
   "source": [
    "culture = CultureMallows(m=5, phi=.9)"
   ]
  },
  {
   "cell_type": "code",
   "execution_count": 3,
   "id": "396bd199-cc4e-4cc9-920c-dc7f5ef5b7d9",
   "metadata": {},
   "outputs": [
    {
     "name": "stdout",
     "output_type": "stream",
     "text": [
      "Profile((0, 1, 3, 2, 4): 1,\n",
      "        (0, 2, 4, 1, 3): 1,\n",
      "        (0, 3, 4, 1, 2): 1,\n",
      "        (0, 4, 2, 1, 3): 1,\n",
      "        (1, 3, 4, 0, 2): 1,\n",
      "        (2, 4, 0, 1, 3): 1,\n",
      "        (2, 4, 0, 3, 1): 1,\n",
      "        (2, 4, 3, 0, 1): 1,\n",
      "        (3, 0, 1, 4, 2): 1,\n",
      "        (3, 1, 4, 2, 0): 1)\n"
     ]
    }
   ],
   "source": [
    "profile = culture.random_profile(n=10)\n",
    "print(profile)"
   ]
  },
  {
   "cell_type": "code",
   "execution_count": 4,
   "id": "7ba09cf9-34be-4c20-936a-006e21bffdd1",
   "metadata": {},
   "outputs": [
    {
     "data": {
      "text/plain": [
       "False"
      ]
     },
     "execution_count": 4,
     "metadata": {},
     "output_type": "execute_result"
    }
   ],
   "source": [
    "profile.exists_condorcet_winner"
   ]
  },
  {
   "cell_type": "code",
   "execution_count": 5,
   "id": "bda41102-4d23-47dd-84c0-8ad85d218dad",
   "metadata": {},
   "outputs": [],
   "source": [
    "def random_profile():\n",
    "    return culture.random_profile(n=10)"
   ]
  },
  {
   "cell_type": "code",
   "execution_count": 6,
   "id": "c6a17713-fa8f-42c5-9ebe-c9692a9edcc3",
   "metadata": {},
   "outputs": [],
   "source": [
    "def test(profile):\n",
    "    return profile.exists_condorcet_winner"
   ]
  },
  {
   "cell_type": "code",
   "execution_count": 7,
   "id": "7d6322e9-8f63-4c80-a000-35ff0ff6b6e0",
   "metadata": {},
   "outputs": [
    {
     "data": {
      "text/plain": [
       "0.4187"
      ]
     },
     "execution_count": 7,
     "metadata": {},
     "output_type": "execute_result"
    }
   ],
   "source": [
    "probability_monte_carlo(factory=random_profile, n_samples=10000, test=test)"
   ]
  }
 ],
 "metadata": {
  "kernelspec": {
   "display_name": "Python 3 (ipykernel)",
   "language": "python",
   "name": "python3"
  },
  "language_info": {
   "codemirror_mode": {
    "name": "ipython",
    "version": 3
   },
   "file_extension": ".py",
   "mimetype": "text/x-python",
   "name": "python",
   "nbconvert_exporter": "python",
   "pygments_lexer": "ipython3",
   "version": "3.12.1"
  },
  "toc": {
   "base_numbering": 1,
   "nav_menu": {},
   "number_sections": true,
   "sideBar": true,
   "skip_h1_title": false,
   "title_cell": "Table of Contents",
   "title_sidebar": "Contents",
   "toc_cell": false,
   "toc_position": {},
   "toc_section_display": true,
   "toc_window_display": false
  }
 },
 "nbformat": 4,
 "nbformat_minor": 5
}
